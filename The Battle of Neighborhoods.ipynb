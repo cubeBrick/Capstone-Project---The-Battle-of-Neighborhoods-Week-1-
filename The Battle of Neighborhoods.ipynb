{
  "nbformat": 4,
  "nbformat_minor": 0,
  "metadata": {
    "colab": {
      "name": "Untitled0.ipynb",
      "provenance": [],
      "collapsed_sections": []
    },
    "kernelspec": {
      "name": "python3",
      "display_name": "Python 3"
    },
    "language_info": {
      "name": "python"
    }
  },
  "cells": [
    {
      "cell_type": "markdown",
      "metadata": {
        "id": "-IVG1OxDbF7A"
      },
      "source": [
        "# **Finding the optimal location to open an Asian restaurant in Toronto**"
      ]
    },
    {
      "cell_type": "markdown",
      "metadata": {
        "id": "H7zPCPnrbNyG"
      },
      "source": [
        "# **1. Introduction**"
      ]
    },
    {
      "cell_type": "markdown",
      "metadata": {
        "id": "UVWA0jjcfzzu"
      },
      "source": [
        "**1.1 Background**"
      ]
    },
    {
      "cell_type": "markdown",
      "metadata": {
        "id": "UGCdM00zS1xO"
      },
      "source": [
        "Determine the best location to open an establishment is considerable in order to maximize business profits and for business success. "
      ]
    },
    {
      "cell_type": "markdown",
      "metadata": {
        "id": "EXETiQUrgESj"
      },
      "source": [
        "**1.2 Problem**"
      ]
    },
    {
      "cell_type": "markdown",
      "metadata": {
        "id": "mME9ZijXdB2R"
      },
      "source": [
        "The project is to determine the best location to open an asian restaurant in Toronto. We will determine the best location based on spending power, distribution of ethnic group, and competition, across each neighbourhood."
      ]
    },
    {
      "cell_type": "markdown",
      "metadata": {
        "id": "u4g-1G9TgFZg"
      },
      "source": [
        "**1.3 Interest**"
      ]
    },
    {
      "cell_type": "markdown",
      "metadata": {
        "id": "VAIj6tTYdGol"
      },
      "source": [
        "Find the optimal location to open a restaurant determine the quality of the business. Find the optimal location is even more important when we want establish a new niche restaurant."
      ]
    },
    {
      "cell_type": "markdown",
      "metadata": {
        "id": "MKyUCKWWS5VL"
      },
      "source": [
        "Finally, know the optimal location is an important information when we want open franchise of several niche restaurants."
      ]
    },
    {
      "cell_type": "markdown",
      "metadata": {
        "id": "pCfAQVmAgQE2"
      },
      "source": [
        "# **2. Data acquisition and cleaning**"
      ]
    },
    {
      "cell_type": "markdown",
      "metadata": {
        "id": "pqlO0HMngUa1"
      },
      "source": [
        "**2.1 Data sources**"
      ]
    },
    {
      "cell_type": "markdown",
      "metadata": {
        "id": "RviBBpCbPbC-"
      },
      "source": [
        "Postal codes and boroughs will be scraped from Wikipedia."
      ]
    },
    {
      "cell_type": "markdown",
      "metadata": {
        "id": "DQQK_oqfiyWE"
      },
      "source": [
        "Foursquare API will be used to find Asian restaurants in each neighbourhood."
      ]
    },
    {
      "cell_type": "markdown",
      "metadata": {
        "id": "INuhiGzmgXt6"
      },
      "source": [
        "**2.2 Data cleaning**"
      ]
    },
    {
      "cell_type": "markdown",
      "metadata": {
        "id": "amwON5B6S6Fs"
      },
      "source": [
        "Missing values will be manage and data from differents sources will be combined into one dataframe."
      ]
    }
  ]
}